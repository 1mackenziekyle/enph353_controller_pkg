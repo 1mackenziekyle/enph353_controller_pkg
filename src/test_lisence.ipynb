{
 "cells": [
  {
   "attachments": {},
   "cell_type": "markdown",
   "metadata": {},
   "source": [
    "# Testing Lisence Plates"
   ]
  },
  {
   "attachments": {},
   "cell_type": "markdown",
   "metadata": {},
   "source": [
    "### Imports"
   ]
  },
  {
   "cell_type": "code",
   "execution_count": 1,
   "metadata": {},
   "outputs": [],
   "source": [
    "import numpy as np\n",
    "import cv2\n",
    "from os import listdir\n",
    "READ_IMG_PATH = '/home/fizzer/Insync/laura.romer@gmail.com/Google Drive - Shared with me/enph353_competition/assets/images/outer_lap/Liscence_plate/' "
   ]
  },
  {
   "cell_type": "code",
   "execution_count": 2,
   "metadata": {},
   "outputs": [],
   "source": [
    "\n",
    "# Load the image names\n",
    "imgs = listdir(READ_IMG_PATH)\n",
    "\n",
    "\n",
    "# Load the image\n",
    "img = cv2.imread(READ_IMG_PATH+imgs[20])\n",
    "\n",
    "cv2.imshow('',img)\n",
    "cv2.waitKey(0)\n",
    "cv2.destroyAllWindows()"
   ]
  },
  {
   "cell_type": "code",
   "execution_count": 6,
   "metadata": {},
   "outputs": [],
   "source": [
    "\n",
    "\n",
    "# Convert the image to grayscale\n",
    "gray = cv2.cvtColor(img, cv2.COLOR_BGR2GRAY)\n",
    "\n",
    "cv2.imshow('', gray)\n",
    "cv2.waitKey(0)\n",
    "cv2.destroyAllWindows()\n",
    "\n",
    "# Apply thresholding to the grayscale image\n",
    "_, thresh = cv2.threshold(gray, 0, 255, cv2.THRESH_BINARY_INV + cv2.THRESH_OTSU)\n",
    "\n",
    "# Find contours in the thresholded image\n",
    "contours, _ = cv2.findContours(thresh, cv2.RETR_EXTERNAL, cv2.CHAIN_APPROX_SIMPLE)\n",
    "useful_contours = [contour for contour in contours if cv2.contourArea(contour) > 5]\n",
    "\n",
    "\n"
   ]
  },
  {
   "cell_type": "code",
   "execution_count": 10,
   "metadata": {},
   "outputs": [],
   "source": [
    "drawn = cv2.drawContours(img, useful_contours, -1, (0, 255, 0), 3)\n",
    "cv2.imshow('',drawn)\n",
    "cv2.waitKey(0)\n",
    "cv2.destroyAllWindows()"
   ]
  },
  {
   "cell_type": "code",
   "execution_count": 7,
   "metadata": {},
   "outputs": [],
   "source": [
    "\n",
    "# Loop over the contours\n",
    "for contour in useful_contours:\n",
    "\n",
    "    # Approximate the contour as a polygon\n",
    "    approx = cv2.approxPolyDP(contour, 0.02 * cv2.arcLength(contour, True), True)\n",
    "\n",
    "    # If the polygon has four sides and is convex\n",
    "    if len(approx) == 4 and cv2.isContourConvex(approx) and cv2.contourArea(contour) > 5:\n",
    "\n",
    "        # Compute the bounding box of the polygon\n",
    "        x, y, w, h = cv2.boundingRect(approx)\n",
    "\n",
    "        # If the bounding box is roughly the aspect ratio of a license plate\n",
    "        aspect_ratio = w / h\n",
    "        if 1.0 <= aspect_ratio <= 5.0:\n",
    "\n",
    "            # Draw a rectangle around the polygon\n",
    "            cv2.rectangle(img, (x, y), (x + w, y + h), (0, 0, 255), 2)\n",
    "\n",
    "            # Define the corners of the plate region\n",
    "            corners_src = np.float32([[x, y], [x + w, y], [x, y + h], [x + w, y + h]])\n",
    "\n",
    "            # Define the corners of the output image (assumes a fixed size)\n",
    "            corners_dst = np.float32([[0, 0], [500, 0], [0, 200], [500, 200]])\n",
    "\n",
    "            # Compute the perspective transform matrix\n",
    "            M = cv2.getPerspectiveTransform(corners_src, corners_dst)\n",
    "\n",
    "            # Apply the perspective transform\n",
    "            warped = cv2.warpPerspective(img, M, (500, 200))\n",
    "\n",
    "            # Display the transformed image\n",
    "            cv2.imshow('License Plate', warped)\n",
    "            cv2.waitKey(0)\n",
    "\n",
    "# Display the original image with the detected plates\n",
    "cv2.imshow('License Plates', img)\n",
    "cv2.waitKey(0)\n",
    "cv2.destroyAllWindows()"
   ]
  }
 ],
 "metadata": {
  "kernelspec": {
   "display_name": "Python 3",
   "language": "python",
   "name": "python3"
  },
  "language_info": {
   "codemirror_mode": {
    "name": "ipython",
    "version": 3
   },
   "file_extension": ".py",
   "mimetype": "text/x-python",
   "name": "python",
   "nbconvert_exporter": "python",
   "pygments_lexer": "ipython3",
   "version": "3.8.10"
  },
  "orig_nbformat": 4
 },
 "nbformat": 4,
 "nbformat_minor": 2
}
